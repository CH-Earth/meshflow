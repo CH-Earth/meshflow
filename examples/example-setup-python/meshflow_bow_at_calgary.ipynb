{
 "cells": [
  {
   "cell_type": "markdown",
   "id": "152c4a20-6d14-4c15-b0f3-7ce80791dfae",
   "metadata": {},
   "source": [
    "# Build `MESH` Model Setup for the Bow River at Calgary"
   ]
  },
  {
   "cell_type": "markdown",
   "id": "16e19748-8002-484c-883f-7498a5dcbe34",
   "metadata": {},
   "source": [
    "We use the `MESHFlow` Python package to build a `MESH` model setup for the Bow River at Banff."
   ]
  },
  {
   "cell_type": "markdown",
   "id": "dd6824ef-56fc-45dc-8d8b-7a7aa36167b1",
   "metadata": {},
   "source": [
    "Let's start by importing the necessary libraries:"
   ]
  },
  {
   "cell_type": "code",
   "execution_count": 1,
   "id": "483fac00-27c6-4d77-bccb-81b2c1af3dea",
   "metadata": {},
   "outputs": [],
   "source": [
    "# import necessary libraries\n",
    "import meshflow # version v0.1.0-dev1\n",
    "\n",
    "import os # python 3.10.2"
   ]
  },
  {
   "cell_type": "markdown",
   "id": "7153ed66-729c-4fb2-b656-bff3130e3f86",
   "metadata": {},
   "source": [
    "Now, let's provide necessary information to set up the `MESH` model:"
   ]
  },
  {
   "cell_type": "code",
   "execution_count": 2,
   "id": "bbc55dd9-9083-4367-b092-5ee8562f47af",
   "metadata": {
    "tags": []
   },
   "outputs": [],
   "source": [
    "# main work path - modify\n",
    "# work_path = 'CHANGE/YOUR/PATH/TO/EXAMPLES/DIRECTORY'\n",
    "work_path = '/Users/kasrakeshavarz/Documents/github-repos/meshflow/examples/'\n",
    "\n",
    "config = {\n",
    "    'riv': os.path.join(work_path, 'bow-at-calgary-shapefiles', 'bcalgary_rivers.shp'),\n",
    "    'cat': os.path.join(work_path, 'bow-at-calgary-shapefiles', 'bcalgary_subbasins.shp'),\n",
    "    'landcover': os.path.join(work_path, 'bow-at-calgary-attributes', 'bcalgary_stats_NA_NALCMS_landcover_2020_30m.csv'),\n",
    "    'forcing_files': os.path.join(work_path, 'bow-at-calgary-forcings'),\n",
    "    'forcing_vars': {\n",
    "        \"air_pressure\": \"RDRS_v2.1_P_P0_SFC\",\n",
    "        \"specific_humidity\": \"RDRS_v2.1_P_HU_09944\",\n",
    "        \"air_temperature\": \"RDRS_v2.1_P_TT_09944\",\n",
    "        \"wind_speed\": \"RDRS_v2.1_P_UVC_09944\",\n",
    "        \"precipitation\": \"RDRS_v2.1_A_PR0_SFC\",\n",
    "        \"shortwave_radiation\": \"RDRS_v2.1_P_FB_SFC\",\n",
    "        \"longwave_radiation\": \"RDRS_v2.1_P_FI_SFC\",\n",
    "    },\n",
    "    'forcing_units': {\n",
    "        'air_pressure': 'millibar',\n",
    "        'specific_humidity': 'kilogram / kilogram',\n",
    "        'air_temperature': 'celsius',\n",
    "        'wind_speed': 'knot',\n",
    "        'precipitation': 'meter / hour',\n",
    "        'shortwave_radiation': 'watt / meter ** 2',\n",
    "        'longwave_radiation': 'watt / meter ** 2',\n",
    "    },\n",
    "    'main_id': 'COMID',\n",
    "    'ds_main_id': 'NextDownID',\n",
    "    'landcover_classes': {\n",
    "        0: 'Unknown',\n",
    "        1: 'Temperate or sub-polar needleleaf forest',\n",
    "        2: 'Sub-polar taiga needleleaf forest',\n",
    "        3: 'Tropical or sub-tropical broadleaf evergreen forest',\n",
    "        4: 'Tropical or sub-tropical broadleaf deciduous forest',\n",
    "        5: 'Temperate or sub-polar broadleaf deciduous forest',\n",
    "        6: 'Mixed forest',\n",
    "        7: 'Tropical or sub-tropical shrubland',\n",
    "        8: 'Temperate or sub-polar shrubland',\n",
    "        9: 'Tropical or sub-tropical grassland',\n",
    "        10: 'Temperate or sub-polar grassland',\n",
    "        11: 'Sub-polar or polar shrubland-lichen-moss',\n",
    "        12: 'Sub-polar or polar grassland-lichen-moss',\n",
    "        13: 'Sub-polar or polar barren-lichen-moss',\n",
    "        14: 'Wetland',\n",
    "        15: 'Cropland',\n",
    "        16: 'Barren lands',\n",
    "        17: 'Urban',\n",
    "        18: 'Water',\n",
    "        19: 'Snow and Ice',\n",
    "    },\n",
    "    'ddb_vars': {\n",
    "        'river_slope': 'slope',\n",
    "        'river_length': 'lengthkm',\n",
    "        'river_class': 'order'\n",
    "    },\n",
    "    'ddb_units': {\n",
    "        'river_slope': 'dimensionless',\n",
    "        'river_length': 'kilometer',\n",
    "        'river_class': 'dimensionless'\n",
    "    },\n",
    "    'settings': {\n",
    "        'core': {\n",
    "            'forcing_files': 'multiple',\n",
    "            'forcing_start_date': '1980-01-01 00:00:00',\n",
    "            'simulation_start_date': '1985-02-12 12:00:00',\n",
    "            'simulation_end_date': '2010-05-18 18:00:00',\n",
    "            'forcing_time_zone': 'UTC',\n",
    "            # 'model_time_zone': 'America/Edmonton',\n",
    "            'output_path': 'results',\n",
    "        },\n",
    "        'class_params': {\n",
    "            'measurement_heights': {\n",
    "                'wind_speed': 40,\n",
    "                'specific_humidity': 40,\n",
    "                'air_temperature': 40,\n",
    "                'roughness_length': 50,\n",
    "            },\n",
    "            'copyright': {\n",
    "                'author': 'University of Calgary',\n",
    "                'location': 'University of Calgary',\n",
    "            },\n",
    "            'grus': {\n",
    "                0: 'needleleaf',\n",
    "                1: {\n",
    "                    'class': 'needleleaf',\n",
    "                    'LNZ0': -1.4,\n",
    "                },\n",
    "                2: 'needleleaf',\n",
    "                3: 'broadleaf',\n",
    "                4: 'broadleaf',\n",
    "                5: {\n",
    "                    'class': 'broadleaf',\n",
    "                    'rOot': 4,\n",
    "                },\n",
    "                6: 'broadleaf',\n",
    "                7: 'grass',\n",
    "                8: 'grass',\n",
    "                9: 'grass',\n",
    "                10: 'grass',\n",
    "                11: 'grass',\n",
    "                12: 'grass',\n",
    "                13: 'grass',\n",
    "                14: 'water',\n",
    "                15: 'crops',\n",
    "                16: 'barrenland',\n",
    "                17: 'urban',\n",
    "                18: 'water',\n",
    "                19: 'water',\n",
    "            },\n",
    "        },\n",
    "        'hydrology_params': {\n",
    "            'routing': [\n",
    "                {\n",
    "                    'R2N': 0.3\n",
    "                },\n",
    "            ],\n",
    "            'hydrology': {\n",
    "                5: {\n",
    "                    'ZSNL': 2,\n",
    "                },\n",
    "            },\n",
    "        },\n",
    "        'run_options': {},\n",
    "    },\n",
    "    'outlet_value': -9999,\n",
    "}"
   ]
  },
  {
   "cell_type": "markdown",
   "id": "6f3349f9-a9de-46cd-a997-a0edcb4e4a30",
   "metadata": {},
   "source": [
    "We can build an \"instance\" of the workflow class:"
   ]
  },
  {
   "cell_type": "code",
   "execution_count": 3,
   "id": "c58c6f35-532c-4477-a0d6-d3fdbfa78f2d",
   "metadata": {
    "tags": []
   },
   "outputs": [],
   "source": [
    "exp1 = meshflow.MESHWorkflow(**config)"
   ]
  },
  {
   "cell_type": "markdown",
   "id": "6f9a2574-0b01-4131-abff-d7f338816ad7",
   "metadata": {},
   "source": [
    "And, we can run it using:"
   ]
  },
  {
   "cell_type": "code",
   "execution_count": 4,
   "id": "3ac7f71b-2f09-460a-87f1-fa41b98aaa9b",
   "metadata": {
    "scrolled": true
   },
   "outputs": [
    {
     "name": "stderr",
     "output_type": "stream",
     "text": [
      "/Users/kasrakeshavarz/Documents/github-repos/meshflow/src/meshflow/core.py:742: UserWarning: Since multiple forcing files are needed, each file will be processed and saved during initialization.\n",
      "  warnings.warn(\n",
      "/Users/kasrakeshavarz/Documents/github-repos/meshflow/src/meshflow/utility/forcing_prep.py:138: FutureWarning: The return type of `Dataset.dims` will be changed to return a set of dimension names in future, in order to be more consistent with `DataArray.dims`. To access a mapping from dimension names to lengths, please use `Dataset.sizes`.\n",
      "  var = [i for i in ds.dims.keys() if i != 'time']\n",
      "/Users/kasrakeshavarz/Documents/github-repos/meshflow/src/meshflow/utility/forcing_prep.py:138: FutureWarning: The return type of `Dataset.dims` will be changed to return a set of dimension names in future, in order to be more consistent with `DataArray.dims`. To access a mapping from dimension names to lengths, please use `Dataset.sizes`.\n",
      "  var = [i for i in ds.dims.keys() if i != 'time']\n",
      "/Users/kasrakeshavarz/Documents/github-repos/meshflow/src/meshflow/utility/forcing_prep.py:138: FutureWarning: The return type of `Dataset.dims` will be changed to return a set of dimension names in future, in order to be more consistent with `DataArray.dims`. To access a mapping from dimension names to lengths, please use `Dataset.sizes`.\n",
      "  var = [i for i in ds.dims.keys() if i != 'time']\n",
      "/Users/kasrakeshavarz/Documents/github-repos/meshflow/src/meshflow/utility/forcing_prep.py:138: FutureWarning: The return type of `Dataset.dims` will be changed to return a set of dimension names in future, in order to be more consistent with `DataArray.dims`. To access a mapping from dimension names to lengths, please use `Dataset.sizes`.\n",
      "  var = [i for i in ds.dims.keys() if i != 'time']\n",
      "/Users/kasrakeshavarz/Documents/github-repos/meshflow/src/meshflow/utility/forcing_prep.py:138: FutureWarning: The return type of `Dataset.dims` will be changed to return a set of dimension names in future, in order to be more consistent with `DataArray.dims`. To access a mapping from dimension names to lengths, please use `Dataset.sizes`.\n",
      "  var = [i for i in ds.dims.keys() if i != 'time']\n",
      "/Users/kasrakeshavarz/Documents/github-repos/meshflow/src/meshflow/utility/forcing_prep.py:138: FutureWarning: The return type of `Dataset.dims` will be changed to return a set of dimension names in future, in order to be more consistent with `DataArray.dims`. To access a mapping from dimension names to lengths, please use `Dataset.sizes`.\n",
      "  var = [i for i in ds.dims.keys() if i != 'time']\n",
      "/Users/kasrakeshavarz/Documents/github-repos/meshflow/src/meshflow/utility/forcing_prep.py:138: FutureWarning: The return type of `Dataset.dims` will be changed to return a set of dimension names in future, in order to be more consistent with `DataArray.dims`. To access a mapping from dimension names to lengths, please use `Dataset.sizes`.\n",
      "  var = [i for i in ds.dims.keys() if i != 'time']\n",
      "/Users/kasrakeshavarz/Documents/github-repos/meshflow/src/meshflow/utility/forcing_prep.py:138: FutureWarning: The return type of `Dataset.dims` will be changed to return a set of dimension names in future, in order to be more consistent with `DataArray.dims`. To access a mapping from dimension names to lengths, please use `Dataset.sizes`.\n",
      "  var = [i for i in ds.dims.keys() if i != 'time']\n",
      "/Users/kasrakeshavarz/Documents/github-repos/meshflow/src/meshflow/utility/forcing_prep.py:138: FutureWarning: The return type of `Dataset.dims` will be changed to return a set of dimension names in future, in order to be more consistent with `DataArray.dims`. To access a mapping from dimension names to lengths, please use `Dataset.sizes`.\n",
      "  var = [i for i in ds.dims.keys() if i != 'time']\n",
      "/Users/kasrakeshavarz/Documents/github-repos/meshflow/src/meshflow/core.py:1217: UserWarning: GRU 0 not found in landcover classes. Skipping...\n",
      "  warnings.warn(f\"GRU {gru} not found in landcover classes. Skipping...\")\n",
      "/Users/kasrakeshavarz/Documents/github-repos/meshflow/src/meshflow/core.py:1217: UserWarning: GRU 3 not found in landcover classes. Skipping...\n",
      "  warnings.warn(f\"GRU {gru} not found in landcover classes. Skipping...\")\n",
      "/Users/kasrakeshavarz/Documents/github-repos/meshflow/src/meshflow/core.py:1217: UserWarning: GRU 4 not found in landcover classes. Skipping...\n",
      "  warnings.warn(f\"GRU {gru} not found in landcover classes. Skipping...\")\n",
      "/Users/kasrakeshavarz/Documents/github-repos/meshflow/src/meshflow/core.py:1217: UserWarning: GRU 7 not found in landcover classes. Skipping...\n",
      "  warnings.warn(f\"GRU {gru} not found in landcover classes. Skipping...\")\n",
      "/Users/kasrakeshavarz/Documents/github-repos/meshflow/src/meshflow/core.py:1217: UserWarning: GRU 9 not found in landcover classes. Skipping...\n",
      "  warnings.warn(f\"GRU {gru} not found in landcover classes. Skipping...\")\n",
      "/Users/kasrakeshavarz/Documents/github-repos/meshflow/src/meshflow/core.py:1217: UserWarning: GRU 11 not found in landcover classes. Skipping...\n",
      "  warnings.warn(f\"GRU {gru} not found in landcover classes. Skipping...\")\n",
      "/Users/kasrakeshavarz/Documents/github-repos/meshflow/src/meshflow/core.py:1217: UserWarning: GRU 12 not found in landcover classes. Skipping...\n",
      "  warnings.warn(f\"GRU {gru} not found in landcover classes. Skipping...\")\n",
      "/Users/kasrakeshavarz/Documents/github-repos/meshflow/src/meshflow/core.py:1217: UserWarning: GRU 13 not found in landcover classes. Skipping...\n",
      "  warnings.warn(f\"GRU {gru} not found in landcover classes. Skipping...\")\n",
      "/Users/kasrakeshavarz/Documents/github-repos/meshflow/src/meshflow/core.py:1418: UserWarning: No `model_time_zone` provided in the settings. Autodetecting the time zone using `timezonefinder` based on the centroid of the catchment area.\n",
      "  warnings.warn(\n",
      "/Users/kasrakeshavarz/Documents/github-repos/meshflow/src/meshflow/core.py:1438: UserWarning: Autodetected model time zone: America/Edmonton\n",
      "  warnings.warn(\n"
     ]
    }
   ],
   "source": [
    "exp1.run(save_path=os.path.join(work_path, 'outputs'))"
   ]
  },
  {
   "cell_type": "code",
   "execution_count": 5,
   "id": "831a91a6-778f-4e20-8971-94da4ede049c",
   "metadata": {},
   "outputs": [],
   "source": [
    "exp1.save(output_dir=os.path.join(work_path, 'outputs'))"
   ]
  }
 ],
 "metadata": {
  "kernelspec": {
   "display_name": "meshflow",
   "language": "python",
   "name": "meshflow"
  },
  "language_info": {
   "codemirror_mode": {
    "name": "ipython",
    "version": 3
   },
   "file_extension": ".py",
   "mimetype": "text/x-python",
   "name": "python",
   "nbconvert_exporter": "python",
   "pygments_lexer": "ipython3",
   "version": "3.10.17"
  }
 },
 "nbformat": 4,
 "nbformat_minor": 5
}
