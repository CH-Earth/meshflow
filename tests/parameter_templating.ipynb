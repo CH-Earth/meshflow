{
 "cells": [
  {
   "cell_type": "code",
   "execution_count": 1,
   "id": "a64bc27d-879f-4532-9c7b-e1755e624171",
   "metadata": {},
   "outputs": [
    {
     "data": {
      "text/plain": [
       "'/Users/kasrakeshavarz/Documents/github-repos/meshflow/src/meshflow'"
      ]
     },
     "execution_count": 1,
     "metadata": {},
     "output_type": "execute_result"
    }
   ],
   "source": [
    "import os\n",
    "import json\n",
    "import pprint\n",
    "import copy\n",
    "\n",
    "os.chdir('../src/meshflow/')\n",
    "os.getcwd()"
   ]
  },
  {
   "cell_type": "code",
   "execution_count": 2,
   "id": "5d544d96-995c-49c8-8c59-f9ca31757f60",
   "metadata": {},
   "outputs": [],
   "source": [
    "# # necessary functions\n",
    "def deep_merge(d1, d2):\n",
    "    \"\"\"\n",
    "    Recursively merge d2 into d1.\n",
    "    \"\"\"\n",
    "    for key, value in d2.items():\n",
    "        if key in d1 and isinstance(d1[key], dict) and isinstance(value, dict):\n",
    "            deep_merge(d1[key], value)  # Recursive merge for nested dictionaries\n",
    "        else:\n",
    "            d1[key] = value  # Overwrite or add new key-value pair\n",
    "    return d1"
   ]
  },
  {
   "cell_type": "markdown",
   "id": "f4da7a5a-17ea-42d5-b833-840f647fe7ea",
   "metadata": {},
   "source": [
    "# CLASS file"
   ]
  },
  {
   "cell_type": "code",
   "execution_count": 3,
   "id": "2cdc3f85-ed44-4d6c-ac15-fc75fe3e8c31",
   "metadata": {
    "scrolled": true
   },
   "outputs": [],
   "source": [
    "case_entry = {\n",
    "    \"centroid_lat\": 45,\n",
    "    \"centroid_lon\": -115,\n",
    "    \"reference_height_wndspd\": 40.0,\n",
    "    \"reference_height_spechum_airtemp\": 40.0,\n",
    "    \"reference_height_surface_roughness\": 50.0,\n",
    "    \"NL\": 12,\n",
    "    \"NM\": 5,\n",
    "}\n",
    "\n",
    "info_entry = {\n",
    "    \"author\": \"Kasra Keshavarz\",\n",
    "    \"location\": \"Calgary, Alberta\"\n",
    "}\n",
    "\n",
    "gru_entry = {\n",
    "    1: {\n",
    "        'class': 'needleleaf',\n",
    "        'fcan': 1,\n",
    "        'lamx': 2,\n",
    "        'mid': 'AB Needleleaf'\n",
    "    },\n",
    "    2: {\n",
    "        'class': 'broadleaf',\n",
    "        'clay1': 20,\n",
    "        'mid': 'BC Broadleaf'\n",
    "    },\n",
    "}"
   ]
  },
  {
   "cell_type": "code",
   "execution_count": 4,
   "id": "7cd72970-292a-4ccc-81fa-684c3a8d025b",
   "metadata": {},
   "outputs": [],
   "source": [
    "# Source code additions\n",
    "with open('./templates/default_CLASS_lines.json', 'r') as file:\n",
    "    gru_lines = json.load(file)\n",
    "\n",
    "with open('./templates/default_CLASS_types.json', 'r') as file:\n",
    "    gru_types = json.load(file)\n",
    "\n",
    "gru_block = {\"vars\": []}\n",
    "\n",
    "for gru, params in gru_entry.items():\n",
    "    d = {}\n",
    "    for param, param_value in params.items():\n",
    "        if param == 'class':\n",
    "            d['veg'] = {'class': param_value}\n",
    "            continue\n",
    "        param_line = gru_lines[param]\n",
    "        param_type = gru_types[param]\n",
    "\n",
    "        if param_type in d.keys():\n",
    "            d[param_type].update({f'line{param_line}': {param: param_value}})\n",
    "        else:\n",
    "            d[param_type] = {f'line{param_line}': {param: param_value}}\n",
    "    gru_block['vars'].append(d)"
   ]
  },
  {
   "cell_type": "code",
   "execution_count": 5,
   "id": "99b827eb-809d-4bbb-b5c6-ed1e94cdeeb8",
   "metadata": {},
   "outputs": [],
   "source": [
    "# load the default values for each GRU\n",
    "with open('./templates/default_CLASS_parameters.json', 'r') as file:\n",
    "    data = json.load(file)\n",
    "with open('./templates/default_CLASS_heading.json', 'r') as file:\n",
    "    info = json.load(file)\n",
    "with open('./templates/default_CLASS_case.json', 'r') as file:\n",
    "    case = json.load(file)\n",
    "\n",
    "# populate new dictionary for GRU blocks\n",
    "populating_list = []\n",
    "\n",
    "# deep update GRU blocks\n",
    "for idx, block in enumerate(gru_block['vars']):\n",
    "    new_data = copy.deepcopy(data)\n",
    "\n",
    "    # deep merge\n",
    "    it = deep_merge(new_data['class_defaults'], block)\n",
    "    \n",
    "    # update the block dictionary\n",
    "    populating_list.append(it)\n",
    "\n",
    "gru_block.update({'vars': populating_list})\n",
    "\n",
    "# update case block -> finalized for interface\n",
    "case_block = deep_merge(case, {\"vars\": {\"case\": case_entry}})\n",
    "\n",
    "# update info block -> finalized for interface\n",
    "info_block = deep_merge(info, {\"vars\": info_entry})\n",
    "\n",
    "# add formats, columns, and comments\n",
    "new_keys = ['formats', 'comments', 'columns']\n",
    "for key in new_keys:\n",
    "    gru_block[key] = data[key]"
   ]
  },
  {
   "cell_type": "code",
   "execution_count": 6,
   "id": "82b7a521-9016-46e7-821e-849fb951b112",
   "metadata": {
    "scrolled": true
   },
   "outputs": [
    {
     "name": "stdout",
     "output_type": "stream",
     "text": [
      "  MESH Model                                                                 01 TITLE\n",
      "  Kasra Keshavarz                                                            02 NAME\n",
      "  Calgary, Alberta                                                           03 PLACE\n",
      "   45.00   -115.00      40.0      40.0      50.0   -1.0    1    12   5       04 DEGLAT/DEGLON/ZRFM/ZRFH/ZBLD/GC/ILW/NL/NM\n",
      "   1.000   0.000   0.000   0.000   0.000   2.000   0.000   0.000   0.000     05 5xFCAN/4xLAMX\n",
      "  -1.300   0.000   0.000   0.000   0.000   1.200   0.000   0.000   0.000     06 5xLNZ0/4xLAMN\n",
      "   0.045   0.000   0.000   0.000   0.000   4.500   0.000   0.000   0.000     07 5xALVC/4xCMAS\n",
      "   0.160   0.000   0.000   0.000   0.000   1.090   0.000   0.000   0.000     08 5xALIC/4xROOT\n",
      " 145.000   0.000   0.000   0.000          36.000   0.000   0.000   0.000     09 4xRSMN/4xQA50\n",
      "   0.800   0.000   0.000   0.000           1.050   0.000   0.000   0.000     10 4xVPDA/4xVPDB\n",
      " 100.000   0.000   0.000   0.000           5.000   0.000   0.000   0.000     11 4xPSGA/4xPSGB\n",
      "   1.000   2.500   1.000  50.000                                             12 DRN/SDEP/FARE/DD\n",
      "   0.030   0.350   0.100   0.050   AB Needleleaf                             13 XSLP/XDRAINH/MANN/KSAT/MID\n",
      "   0.500   0.500   0.500                                                     14 3xSAND (or more)\n",
      "   0.200   0.200   0.200                                                     15 3xCLAY (or more)\n",
      "   0.000   0.000   0.000                                                     16 3xORGM (or more)\n",
      "   4.000   2.000   1.000   2.000   4.000   0.000                             17 3xTBAR (or more)/TCAN/TSNO/TPND\n",
      "   0.000   0.000   0.000   0.250   0.150   0.040   0.000                     18 3xTHLQ (or more)/3xTHIC (or more)/ZPND\n",
      "   0.000   1.000   0.000   0.000   0.000   0.000                             19 RCAN/SCAN/SNO/ALBS/RHOS/GRO\n",
      "\n",
      "   0.000   1.000   0.000   0.000   0.000   0.000   1.450   0.000   0.000     05 5xFCAN/4xLAMX\n",
      "   0.000  -1.300   0.000   0.000   0.000   0.000   1.200   0.000   0.000     06 5xLNZ0/4xLAMN\n",
      "   0.000   0.045   0.000   0.000   0.000   0.000   4.500   0.000   0.000     07 5xALVC/4xCMAS\n",
      "   0.000   0.160   0.000   0.000   0.000   0.000   1.090   0.000   0.000     08 5xALIC/4xROOT\n",
      "   0.000 145.000   0.000   0.000           0.000  36.000   0.000   0.000     09 4xRSMN/4xQA50\n",
      "   0.000   0.800   0.000   0.000           0.000   1.050   0.000   0.000     10 4xVPDA/4xVPDB\n",
      "   0.000 100.000   0.000   0.000           0.000   5.000   0.000   0.000     11 4xPSGA/4xPSGB\n",
      "   1.000   2.500   1.000  50.000                                             12 DRN/SDEP/FARE/DD\n",
      "   0.030   0.350   0.100   0.050   BC Broadleaf                              13 XSLP/XDRAINH/MANN/KSAT/MID\n",
      "   0.500   0.500   0.500                                                     14 3xSAND (or more)\n",
      "  20.000   0.200   0.200                                                     15 3xCLAY (or more)\n",
      "   0.000   0.000   0.000                                                     16 3xORGM (or more)\n",
      "   4.000   2.000   1.000   2.000   4.000   0.000                             17 3xTBAR (or more)/TCAN/TSNO/TPND\n",
      "   0.000   0.000   0.000   0.250   0.150   0.040   0.000                     18 3xTHLQ (or more)/3xTHIC (or more)/ZPND\n",
      "   0.000   1.000   0.000   0.000   0.000   0.000                             19 RCAN/SCAN/SNO/ALBS/RHOS/GRO\n",
      "\n",
      "   0       0       0       0                                                 20 (not used, but 4x integer values are required)\n",
      "   0       0       0       0                                                 21 (not used, but 4x integer values are required)\n",
      "   0       0       0       0                                                 22 IHOUR/IMINS/IJDAY/IYEAR\n"
     ]
    }
   ],
   "source": [
    "from jinja2 import Environment, FileSystemLoader\n",
    "\n",
    "def raise_helper(msg):\n",
    "    raise Exception(msg)\n",
    "\n",
    "environment = Environment(\n",
    "    loader=FileSystemLoader(\"templates/\"),\n",
    "    trim_blocks=True,\n",
    "    lstrip_blocks=True,\n",
    "    line_comment_prefix='##',\n",
    ")\n",
    "environment.globals['raise'] = raise_helper\n",
    "\n",
    "template = environment.get_template(\"MESH_parameters_CLASS.ini.jinja\")\n",
    "\n",
    "# create content\n",
    "content = template.render(\n",
    "    info_block=info_block,\n",
    "    case_block=case_block,\n",
    "    gru_block=gru_block,\n",
    "    variables=\"vars\",\n",
    "    comments=\"comments\",\n",
    "    formats=\"formats\",\n",
    "    columns=\"columns\",\n",
    ")\n",
    "\n",
    "print(content)"
   ]
  },
  {
   "cell_type": "markdown",
   "id": "5f8b365a-574b-47c9-aeb0-c52d56b9fad8",
   "metadata": {},
   "source": [
    "____"
   ]
  },
  {
   "cell_type": "markdown",
   "id": "e5a63333-6c98-4e87-9fd2-7b2426656e30",
   "metadata": {},
   "source": [
    "# Hydrology file"
   ]
  },
  {
   "cell_type": "code",
   "execution_count": 7,
   "id": "592d80f6-2368-43a7-b668-2a95cd638104",
   "metadata": {},
   "outputs": [],
   "source": [
    "routing_dict = [\n",
    "    {\n",
    "        \"r2n\": 2.87,\n",
    "        \"flz\": 7,\n",
    "    },\n",
    "    {\n",
    "        \"r2n\": 0.2,\n",
    "    },\n",
    "]\n",
    "\n",
    "gru_dict = [\n",
    "    {\n",
    "        '1': {\n",
    "            \"zsnl\": 0.3\n",
    "        }\n",
    "    },\n",
    "    {\n",
    "        'longest_block_2': {\n",
    "            \"zplg\": 0.9\n",
    "        }\n",
    "    },\n",
    "    {\n",
    "        '3': {\n",
    "            \"zplg\": 0.438\n",
    "        }\n",
    "    },\n",
    "]"
   ]
  },
  {
   "cell_type": "code",
   "execution_count": 8,
   "id": "cf276aa9-c1e0-4e06-9582-71ed2a49a317",
   "metadata": {},
   "outputs": [],
   "source": [
    "# load the default values for each GRU\n",
    "with open('./templates/default_hydrology_parameters.json', 'r') as file:\n",
    "    data = json.load(file)\n",
    "\n",
    "# components\n",
    "routing_defaults = data.get('routing')\n",
    "gru_defaults = data.get('gru')\n",
    "\n",
    "# deep update routing block\n",
    "for idx, routing_block in enumerate(routing_dict):\n",
    "    defaults = copy.deepcopy(routing_defaults)\n",
    "\n",
    "    # deep merge\n",
    "    defaults.update(routing_block)\n",
    "\n",
    "    # update the dict (list of dicts)\n",
    "    routing_dict[idx].update(defaults)\n",
    "\n",
    "# deep update gru block\n",
    "for idx, gru_block in enumerate(gru_dict):\n",
    "    defaults = copy.deepcopy(gru_defaults)\n",
    "\n",
    "    # update default values\n",
    "    for k, v in gru_block.items():\n",
    "        defaults.update(v)\n",
    "\n",
    "    # update the dict\n",
    "    gru_dict[idx][k].update(defaults)"
   ]
  },
  {
   "cell_type": "code",
   "execution_count": 9,
   "id": "5f136a2f-73a7-49fb-aaf4-357e60179fbc",
   "metadata": {},
   "outputs": [
    {
     "data": {
      "text/plain": [
       "[{'r2n': 2.87, 'flz': 7, 'r1n': 0.02, 'pwr': 2.37},\n",
       " {'r2n': 0.2, 'r1n': 0.02, 'pwr': 2.37, 'flz': 0.001}]"
      ]
     },
     "execution_count": 9,
     "metadata": {},
     "output_type": "execute_result"
    }
   ],
   "source": [
    "routing_dict"
   ]
  },
  {
   "cell_type": "code",
   "execution_count": 10,
   "id": "8cb51f1c-3f45-45f6-b596-75410bfbf135",
   "metadata": {},
   "outputs": [
    {
     "data": {
      "text/plain": [
       "[{'1': {'zsnl': 0.3, 'zpls': 0.06, 'zplg': 0.2, 'iwf': 1}},\n",
       " {'longest_block_2': {'zplg': 0.9, 'zsnl': 0.05, 'zpls': 0.06, 'iwf': 1}},\n",
       " {'3': {'zplg': 0.438, 'zsnl': 0.05, 'zpls': 0.06, 'iwf': 1}}]"
      ]
     },
     "execution_count": 10,
     "metadata": {},
     "output_type": "execute_result"
    }
   ],
   "source": [
    "gru_dict"
   ]
  },
  {
   "cell_type": "code",
   "execution_count": 11,
   "id": "54ae6b8e-b299-4e31-aab5-c4605bab3457",
   "metadata": {},
   "outputs": [
    {
     "name": "stdout",
     "output_type": "stream",
     "text": [
      "2.0: MESH Hydrology parameters input file (Version 2.0)\n",
      "##### Option Flags #####\n",
      "----#\n",
      "    0                                                       # Number of option flags\n",
      "##### Channel routing parameters per river class #####\n",
      "-------#\n",
      "4                                                           # Number of channel routing parameters\n",
      "R2N    2.870    0.200                                       # comment for line\n",
      "R1N    0.020    0.020                                       # comment for line\n",
      "PWR    2.370    2.370                                       # comment for line\n",
      "FLZ    7.000    0.001                                       # comment for line\n",
      "##### GRU class independent hydrologic parameters #####     # 10comment line 13                                                           | *\n",
      "-------#                                                    # 11comment line 14                                                           | *\n",
      "       0                                                    # Number of GRU independent hydrologic parameters\n",
      "##### GRU class dependent hydrologic parameters #####       # 18comment line 16                                                           | *\n",
      "-------#                                                    # 19comment line 17                                                           | *\n",
      "       4                                                    # 21Number of GRU dependent hydrologic parameters                             | I8\n",
      "!     1      longest_block_2   3      \n",
      "ZSNL  0.300  0.050             0.050\n",
      "ZPLS  0.060  0.060             0.060\n",
      "ZPLG  0.200  0.900             0.438\n",
      "IWF   1      1                 1\n",
      "\n"
     ]
    }
   ],
   "source": [
    "# hydrology template file\n",
    "template_hydrology = environment.get_template(\"MESH_parameters_hydrology.ini.jinja\")\n",
    "\n",
    "# create content\n",
    "content_hydrology = template_hydrology.render(\n",
    "    routing_dict=routing_dict,\n",
    "    gru_dict=gru_dict,\n",
    ")\n",
    "\n",
    "print(content_hydrology)"
   ]
  },
  {
   "cell_type": "markdown",
   "id": "0831f791-35d6-4a9e-8bc8-2392706cdfdb",
   "metadata": {},
   "source": [
    "____"
   ]
  },
  {
   "cell_type": "markdown",
   "id": "4ce8d94b-9c76-48c0-8816-092a46555ec5",
   "metadata": {},
   "source": [
    "# Input config file"
   ]
  },
  {
   "cell_type": "code",
   "execution_count": 12,
   "id": "462956ba-d2f0-431d-b80c-919872e38966",
   "metadata": {},
   "outputs": [],
   "source": [
    "options_dict = {\n",
    "    \"flags\": {\n",
    "        \"forcing\": {\n",
    "            \"BASINSHORTWAVEFLAG\": \"RDRS_v2.1_P_FB_SFC\",\n",
    "            \"BASINHUMIDITYFLAG\": \"RDRS_v2.1_P_HU_1.5m\",\n",
    "            \"BASINRAINFLAG\": \"RDRS_v2.1_A_PR0_SFC\",\n",
    "            \"BASINPRESFLAG\": \"RDRS_v2.1_P_P0_SFC\",\n",
    "            \"BASINLONGWAVEFLAG\": \"RDRS_v2.1_P_FI_SFC\",\n",
    "            \"BASINWINDFLAG\": \"RDRS_v2.1_P_UVC_10m\",\n",
    "            \"BASINTEMPERATUREFLAG\": \"RDRS_v2.1_P_TT_1.5m\",\n",
    "            \"BASINFORCINGFLAG\": {\n",
    "                \"start_date\": 19800101,\n",
    "                \"hf\": 15,\n",
    "            },\n",
    "            \"FORCINGLIST\": \"forcing_files_list\",\n",
    "        },\n",
    "        \"etc\": {\n",
    "            \"PBSMFLAG\": \"on\",\n",
    "            \"TIMESTEPFLAG\": 60,\n",
    "        },\n",
    "    },\n",
    "    \"outputs\": {\n",
    "        \"result\": \"results\",\n",
    "    },\n",
    "    \"dates\": {\n",
    "        \"start_year\": 1980,\n",
    "        \"start_day\": 250,\n",
    "        \"start_hour\": 23,\n",
    "        \"end_year\": 2020,\n",
    "        \"end_day\": 352,\n",
    "        \"end_hour\": 3\n",
    "    },\n",
    "}"
   ]
  },
  {
   "cell_type": "code",
   "execution_count": 13,
   "id": "9b2428fe-e130-4fd7-a520-4a3425dc744f",
   "metadata": {},
   "outputs": [],
   "source": [
    "# load the default values for each GRU\n",
    "with open('./templates/default_input_run_options.json', 'r') as file:\n",
    "    options = json.load(file)\n",
    "\n",
    "# deep update the dictionary\n",
    "options['settings'].update(deep_merge(options['settings'], options_dict))"
   ]
  },
  {
   "cell_type": "code",
   "execution_count": 14,
   "id": "5b9717a0-1a15-439d-afdf-26cc2c37db4f",
   "metadata": {
    "scrolled": true
   },
   "outputs": [
    {
     "name": "stdout",
     "output_type": "stream",
     "text": [
      "{'columns': {'comments': 57, 'data': 24},\n",
      " 'comments': {'dates': {'end_date': '#28 Stop year, day, hour, minute  (2017 '\n",
      "                                    '274   0   0)             | 4I4',\n",
      "                        'start_date': '#27 Start year, day, hour, minute (2000 '\n",
      "                                      '275   0   0)             | 4I4'},\n",
      "              'flags': {'class': {'IALC': '#11 CLASS Input Canopy Albedo '\n",
      "                                          'Override          | A20, I4',\n",
      "                                  'IALG': '#13 CLASS Input Soil Albedo '\n",
      "                                          'Override            | A20, I4',\n",
      "                                  'IALS': '#12 CLASS Input Snow Albedo '\n",
      "                                          'Override            | A20, I4',\n",
      "                                  'IDISP': '#02 Vegetation Displacement Height '\n",
      "                                           'Calculation  | A20, I4',\n",
      "                                  'IHGT': '#10 CLASS Input Vegetation Height '\n",
      "                                          'Override      | A20, I4',\n",
      "                                  'IPAI': '#09 CLASS Input Leaf-Area Index '\n",
      "                                          'Override        | A20, I4',\n",
      "                                  'IPCP': '#04 Rainfall-Snowfall Partition '\n",
      "                                          'distribution    | A20, I4',\n",
      "                                  'ITC': '#05 Canopy and Ground-Surface Temp '\n",
      "                                         'Iter Scheme  | A20, I4',\n",
      "                                  'ITCG': '#06 Canopy and Ground-Surface Temp '\n",
      "                                          'Iter Scheme  | A20, I4',\n",
      "                                  'ITG': '#07 Canopy and Ground-Surface Temp '\n",
      "                                         'Iter Scheme  | A20, I4',\n",
      "                                  'IWF': '#08 Water Flow '\n",
      "                                         'control                          | '\n",
      "                                         'A20, I4',\n",
      "                                  'IZREF': '#03 Atmospheric Model Reference '\n",
      "                                           'Height          | A20, I4'},\n",
      "                        'etc': {},\n",
      "                        'forcing': {}},\n",
      "              'outputs': {'class': '#21 Output '\n",
      "                                   'directory                            | '\n",
      "                                   '5A10',\n",
      "                          'result': '#24 Output Directory for total-basin '\n",
      "                                    'files      | A10'}},\n",
      " 'formats': {},\n",
      " 'settings': {'dates': {'end_day': 352,\n",
      "                        'end_hour': 3,\n",
      "                        'end_year': 2020,\n",
      "                        'start_day': 250,\n",
      "                        'start_hour': 23,\n",
      "                        'start_year': 1980},\n",
      "              'flags': {'class': {'IALC': 0,\n",
      "                                  'IALG': 0,\n",
      "                                  'IALS': 0,\n",
      "                                  'IDISP': 0,\n",
      "                                  'IHGT': 0,\n",
      "                                  'IPAI': 0,\n",
      "                                  'IPCP': 1,\n",
      "                                  'ITC': 2,\n",
      "                                  'ITCG': 2,\n",
      "                                  'ITG': 2,\n",
      "                                  'IWF': 1,\n",
      "                                  'IZREF': 1},\n",
      "                        'etc': {'AUTOCALIBRATIONFLAG': 0,\n",
      "                                'BASEFLOWFLAG': 'wf_lzs',\n",
      "                                'BASINAVGEBFILEFLAG': 'default',\n",
      "                                'BASINAVGWBFILEFLAG': 'default',\n",
      "                                'DIAGNOSEMODE': 'off',\n",
      "                                'FREZTH': -2.0,\n",
      "                                'FROZENSOILINFILFLAG': 0,\n",
      "                                'INPUTPARAMSFORMFLAG': 'txt',\n",
      "                                'INTERPOLATIONFLAG': 0,\n",
      "                                'METRICSSPINUP': 183,\n",
      "                                'OUTFILESFLAG': 'on',\n",
      "                                'PBSMFLAG': 'on',\n",
      "                                'PRINTSIMSTATUS': 'default',\n",
      "                                'RESUMEFLAG': 0,\n",
      "                                'RUNMODE': 'runrte',\n",
      "                                'SAVERESUMEFLAG': 0,\n",
      "                                'SHDFILEFLAG': 'nc_subbasin',\n",
      "                                'SNDENLIM': 600.0,\n",
      "                                'STREAMFLOWOUTFLAG': 'default',\n",
      "                                'SWELIM': 1500.0,\n",
      "                                'TIMESTEPFLAG': 60},\n",
      "                        'forcing': {'BASINFORCINGFLAG': {'fname': '',\n",
      "                                                         'format': 'nc_subbasin',\n",
      "                                                         'hf': 15,\n",
      "                                                         'start_date': 19800101,\n",
      "                                                         'time_shift': ''},\n",
      "                                    'BASINHUMIDITYFLAG': 'RDRS_v2.1_P_HU_1.5m',\n",
      "                                    'BASINLONGWAVEFLAG': 'RDRS_v2.1_P_FI_SFC',\n",
      "                                    'BASINPRESFLAG': 'RDRS_v2.1_P_P0_SFC',\n",
      "                                    'BASINRAINFLAG': 'RDRS_v2.1_A_PR0_SFC',\n",
      "                                    'BASINSHORTWAVEFLAG': 'RDRS_v2.1_P_FB_SFC',\n",
      "                                    'BASINTEMPERATUREFLAG': 'RDRS_v2.1_P_TT_1.5m',\n",
      "                                    'BASINWINDFLAG': 'RDRS_v2.1_P_UVC_10m',\n",
      "                                    'FORCINGLIST': 'forcing_files_list'}},\n",
      "              'outputs': {'class': 'CLASSOUT', 'result': 'results'}}}\n"
     ]
    }
   ],
   "source": [
    "pprint.pprint(options)"
   ]
  },
  {
   "cell_type": "code",
   "execution_count": 15,
   "id": "e4d467db-a975-4f1d-9ff3-2e50ebaad0d9",
   "metadata": {
    "scrolled": true
   },
   "outputs": [
    {
     "name": "stdout",
     "output_type": "stream",
     "text": [
      "MESH input run options file                             # comment line 1                                | * \n",
      "##### Control Flags #####                               # comment line 2                                | * \n",
      "----#                                                   # comment line 3                                | * \n",
      "   42                                                   # Number of control flags                       | I5\n",
      "BASINFORCINGFLAG      nc_subbasin start_date=19800101 hf=15 \n",
      "BASINSHORTWAVEFLAG    RDRS_v2.1_P_FB_SFC\n",
      "BASINHUMIDITYFLAG     RDRS_v2.1_P_HU_1.5m\n",
      "BASINRAINFLAG         RDRS_v2.1_A_PR0_SFC\n",
      "BASINPRESFLAG         RDRS_v2.1_P_P0_SFC\n",
      "BASINLONGWAVEFLAG     RDRS_v2.1_P_FI_SFC\n",
      "BASINWINDFLAG         RDRS_v2.1_P_UVC_10m\n",
      "BASINTEMPERATUREFLAG  RDRS_v2.1_P_TT_1.5m\n",
      "FORCINGLIST           forcing_files_list\n",
      "IDISP                 0                                 #02 Vegetation Displacement Height Calculation  | A20, I4\n",
      "IZREF                 1                                 #03 Atmospheric Model Reference Height          | A20, I4\n",
      "IPCP                  1                                 #04 Rainfall-Snowfall Partition distribution    | A20, I4\n",
      "ITC                   2                                 #05 Canopy and Ground-Surface Temp Iter Scheme  | A20, I4\n",
      "ITCG                  2                                 #06 Canopy and Ground-Surface Temp Iter Scheme  | A20, I4\n",
      "ITG                   2                                 #07 Canopy and Ground-Surface Temp Iter Scheme  | A20, I4\n",
      "IWF                   1                                 #08 Water Flow control                          | A20, I4\n",
      "IPAI                  0                                 #09 CLASS Input Leaf-Area Index Override        | A20, I4\n",
      "IHGT                  0                                 #10 CLASS Input Vegetation Height Override      | A20, I4\n",
      "IALC                  0                                 #11 CLASS Input Canopy Albedo Override          | A20, I4\n",
      "IALS                  0                                 #12 CLASS Input Snow Albedo Override            | A20, I4\n",
      "IALG                  0                                 #13 CLASS Input Soil Albedo Override            | A20, I4\n",
      "TIMESTEPFLAG          60\n",
      "INPUTPARAMSFORMFLAG   txt\n",
      "SHDFILEFLAG           nc_subbasin\n",
      "FROZENSOILINFILFLAG   0\n",
      "PBSMFLAG              on\n",
      "INTERPOLATIONFLAG     0\n",
      "SAVERESUMEFLAG        0\n",
      "RESUMEFLAG            0\n",
      "OUTFILESFLAG          on\n",
      "AUTOCALIBRATIONFLAG   0\n",
      "METRICSSPINUP         183\n",
      "BASEFLOWFLAG          wf_lzs\n",
      "BASINAVGWBFILEFLAG    default\n",
      "BASINAVGEBFILEFLAG    default\n",
      "STREAMFLOWOUTFLAG     default\n",
      "RUNMODE               runrte\n",
      "DIAGNOSEMODE          off\n",
      "PRINTSIMSTATUS        default\n",
      "FREZTH                -2.0\n",
      "SWELIM                1500.0\n",
      "SNDENLIM              600.0\n",
      "##### Output Grid selection #####                       #15 comment line 15                             | *\n",
      "----#                                                   #16 comment line 16                             | *\n",
      "    0   #Maximum 5 points                               #17 Number of output grid points                | I5\n",
      "---------#---------#---------#---------#---------#      #18 comment line 18                             | *\n",
      "         1                                              #19 Grid number                                 | 5I10\n",
      "         1                                              #20 Land class                                  | 5I10\n",
      "CLASSOUT                                                #21 Output directory                            | 5A10\n",
      "##### Output Directory #####                            #22 comment line 22                             | *\n",
      "---------#                                              #23 comment line 23                             | *\n",
      "results                                                 #24 Output Directory for total-basin files      | A10\n",
      "##### Simulation Run Times #####                        #25 comment line 25                             | *\n",
      "---#---#---#---#                                        #26 comment line 26                             | *\n",
      "1980 250  23   0\n",
      "2020 352   3   0\n"
     ]
    }
   ],
   "source": [
    "# options template file\n",
    "template_options = environment.get_template(\"MESH_input_run_options.ini.jinja\")\n",
    "\n",
    "# create content\n",
    "content_options = template_options.render(\n",
    "    options_dict = options,\n",
    ")\n",
    "\n",
    "print(content_options)"
   ]
  }
 ],
 "metadata": {
  "kernelspec": {
   "display_name": "meshflow",
   "language": "python",
   "name": "meshflow"
  },
  "language_info": {
   "codemirror_mode": {
    "name": "ipython",
    "version": 3
   },
   "file_extension": ".py",
   "mimetype": "text/x-python",
   "name": "python",
   "nbconvert_exporter": "python",
   "pygments_lexer": "ipython3",
   "version": "3.10.17"
  }
 },
 "nbformat": 4,
 "nbformat_minor": 5
}
