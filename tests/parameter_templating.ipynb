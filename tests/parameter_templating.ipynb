{
 "cells": [
  {
   "cell_type": "code",
   "execution_count": 1,
   "id": "a64bc27d-879f-4532-9c7b-e1755e624171",
   "metadata": {},
   "outputs": [
    {
     "data": {
      "text/plain": [
       "'/home/kasra.keshavarz1/github-repos/meshflow/src/meshflow'"
      ]
     },
     "execution_count": 1,
     "metadata": {},
     "output_type": "execute_result"
    }
   ],
   "source": [
    "import os\n",
    "\n",
    "os.chdir('../src/meshflow/')\n",
    "os.getcwd()"
   ]
  },
  {
   "cell_type": "code",
   "execution_count": 2,
   "id": "82b7a521-9016-46e7-821e-849fb951b112",
   "metadata": {},
   "outputs": [
    {
     "name": "stdout",
     "output_type": "stream",
     "text": [
      "  MESH for Bow River at Calgary                                              01 TITLE\n",
      "  Kasra Keshavarz                                                            02 NAME\n",
      "  University of Calgary                                                      03 PLACE\n",
      "   45.20   -114.20      40.0      40.0      50.0   -1.0    1    30   5       04 DEGLAT/DEGLON/ZRFM/ZRFH/ZBLD/GC/ILW/NL/NM\n",
      "\n"
     ]
    }
   ],
   "source": [
    "from jinja2 import Environment, FileSystemLoader\n",
    "\n",
    "info_block = {\n",
    "    \"vars\": {\n",
    "        \"case_name\": \"MESH for Bow River at Calgary\",\n",
    "        \"author\": \"Kasra Keshavarz\",\n",
    "        \"location\": \"University of Calgary\",\n",
    "    },\n",
    "    \"comments\": {\n",
    "        \"case_name\": \"01 TITLE\",\n",
    "        \"author\": \"02 NAME\",\n",
    "        \"location\": \"03 PLACE\"\n",
    "    },\n",
    "    \"formats\": {}, # none means no change\n",
    "    \"columns\": {\n",
    "        \"case_name\": 3,\n",
    "        \"author\": 3,\n",
    "        \"location\": 3,\n",
    "    }, # none means column 2\n",
    "}\n",
    "\n",
    "case_block = {\n",
    "    \"vars\": {\n",
    "        \"case\": {\n",
    "            \"centroid_lat\": 45.2,\n",
    "            \"centroid_lon\": -114.2,\n",
    "            \"reference_height_wndspd\": 40.0,\n",
    "            \"reference_height_spechum_airtemp\": 40.0,\n",
    "            \"reference_height_surface_roughness\": 50.0,\n",
    "            \"ground_cover_flag\": -1.0, # meaning land cover\n",
    "            \"ILW\": 1, # MESH,CLASS>3.4 defaults to 1\n",
    "            \"NL\": 30, # total number of subbasins\n",
    "            \"NM\": 5, # total number of GRUs - 1\n",
    "        },\n",
    "    },\n",
    "    \"comments\": {\n",
    "        \"case\": '04 DEGLAT/DEGLON/ZRFM/ZRFH/ZBLD/GC/ILW/NL/NM'\n",
    "    },\n",
    "    \"formats\": {\n",
    "        \"case\": {\n",
    "            \"centroid_lat\": 2,\n",
    "            \"centroid_lon\": 2,\n",
    "            \"reference_height_wndspd\": 1,\n",
    "            \"reference_height_spechum_airtemp\": 1,\n",
    "            \"reference_height_surface_roughness\": 1,\n",
    "            \"ground_cover_flag\": 1,\n",
    "            \"ILW\": 0,\n",
    "            \"NL\": 0,\n",
    "            \"NM\": 0,\n",
    "        },\n",
    "    },\n",
    "    \"columns\": {\n",
    "        \"case\": {\n",
    "            \"centroid_lat\": 4,\n",
    "            \"centroid_lon\": 12,\n",
    "            \"reference_height_wndspd\": 25,\n",
    "            \"reference_height_spechum_airtemp\": 35,\n",
    "            \"reference_height_surface_roughness\": 45,\n",
    "            \"ground_cover_flag\": 52,\n",
    "            \"ILW\": 60,\n",
    "            \"NL\": 65,\n",
    "            \"NM\": 70,\n",
    "        },\n",
    "    },\n",
    "}\n",
    "\n",
    "gru_block = {\n",
    "    \"vars\": {\n",
    "    },\n",
    "    \"comments\": {\n",
    "    },\n",
    "}\n",
    "\n",
    "environment = Environment(\n",
    "    loader=FileSystemLoader(\"templates/\"),\n",
    "    trim_blocks=True,\n",
    "    lstrip_blocks=True,\n",
    "    line_comment_prefix='##',\n",
    ")\n",
    "template = environment.get_template(\"MESH_parameters_CLASS.ini.jinja\")\n",
    "\n",
    "content = template.render(\n",
    "    info_block=info_block,\n",
    "    case_block=case_block,\n",
    "    gru_block=gru_block,\n",
    "    variables=\"vars\",\n",
    "    comments=\"comments\",\n",
    "    formats=\"formats\",\n",
    "    columns=\"columns\",\n",
    ")\n",
    "\n",
    "print(content)"
   ]
  }
 ],
 "metadata": {
  "kernelspec": {
   "display_name": "scienv",
   "language": "python",
   "name": "scienv"
  },
  "language_info": {
   "codemirror_mode": {
    "name": "ipython",
    "version": 3
   },
   "file_extension": ".py",
   "mimetype": "text/x-python",
   "name": "python",
   "nbconvert_exporter": "python",
   "pygments_lexer": "ipython3",
   "version": "3.11.7"
  }
 },
 "nbformat": 4,
 "nbformat_minor": 5
}
