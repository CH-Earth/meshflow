{
 "cells": [
  {
   "cell_type": "code",
   "execution_count": 1,
   "id": "a64bc27d-879f-4532-9c7b-e1755e624171",
   "metadata": {},
   "outputs": [
    {
     "data": {
      "text/plain": [
       "'/home/kasra.keshavarz1/github-repos/meshflow/src/meshflow'"
      ]
     },
     "execution_count": 1,
     "metadata": {},
     "output_type": "execute_result"
    }
   ],
   "source": [
    "import os\n",
    "\n",
    "os.chdir('../src/meshflow/')\n",
    "os.getcwd()"
   ]
  },
  {
   "cell_type": "code",
   "execution_count": 2,
   "id": "82b7a521-9016-46e7-821e-849fb951b112",
   "metadata": {},
   "outputs": [
    {
     "name": "stdout",
     "output_type": "stream",
     "text": [
      "... wrote test.ini\n"
     ]
    }
   ],
   "source": [
    "from jinja2 import Environment, FileSystemLoader\n",
    "\n",
    "info_block = {\n",
    "    \"vars\": {\n",
    "        \"case_name\": \"MESH for Bow River at Calgary\",\n",
    "        \"author\": \"Kasra Keshavarz\",\n",
    "        \"location\": \"University of Calgary\",\n",
    "    },\n",
    "    \"comments\": {\n",
    "        \"case_name\": \"01 TITLE\",\n",
    "        \"author\": \"02 NAME\",\n",
    "        \"location\": \"03 PLACE\"\n",
    "    },\n",
    "}\n",
    "\n",
    "case_block = {\n",
    "    \"vars\": {\n",
    "        \"case\": {\n",
    "            \"centroid_lat\": 45.2,\n",
    "            \"centroid_lon\": -114.2,\n",
    "            \"reference_height_wndspd\": 40.0,\n",
    "            \"reference_height_spechum_airtemp\": 40.0,\n",
    "            \"reference_height_surface_roughness\": 50.0,\n",
    "            \"ground_cover_flag\": -1.0, # meaning land cover\n",
    "            \"ILW\": 1, # MESH,CLASS>3.4 defaults to 1\n",
    "            \"NL\": 30, # total number of subbasins\n",
    "            \"NM\": 5, # total number of GRUs - 1\n",
    "        },\n",
    "    },\n",
    "    \"comments\": {\n",
    "        \"case\": '04 DEGLAT/DEGLON/ZRFM/ZRFH/ZBLD/GC/ILW/NL/NM'\n",
    "    },\n",
    "}\n",
    "\n",
    "gru_block = {\n",
    "    \"vars\": {\n",
    "    },\n",
    "    \"comments\": {\n",
    "    },\n",
    "}\n",
    "\n",
    "environment = Environment(\n",
    "    loader=FileSystemLoader(\"templates/\"),\n",
    "    trim_blocks=True,\n",
    "    lstrip_blocks=True,\n",
    ")\n",
    "template = environment.get_template(\"MESH_parameters_CLASS.ini.jinja\")\n",
    "\n",
    "content = template.render(\n",
    "    info_block=info_block,\n",
    "    case_block=case_block,\n",
    "    gru_block=gru_block,\n",
    "    variables=\"vars\",\n",
    "    comments=\"comments\",\n",
    ")\n",
    "with open(\"./templates/test.ini\", mode=\"w\", encoding=\"utf-8\") as message:\n",
    "    message.write(content)\n",
    "    print(\"... wrote test.ini\")"
   ]
  },
  {
   "cell_type": "code",
   "execution_count": null,
   "id": "99eeecfc-518f-4998-9683-ae827ca21f90",
   "metadata": {},
   "outputs": [],
   "source": []
  }
 ],
 "metadata": {
  "kernelspec": {
   "display_name": "scienv",
   "language": "python",
   "name": "scienv"
  },
  "language_info": {
   "codemirror_mode": {
    "name": "ipython",
    "version": 3
   },
   "file_extension": ".py",
   "mimetype": "text/x-python",
   "name": "python",
   "nbconvert_exporter": "python",
   "pygments_lexer": "ipython3",
   "version": "3.11.7"
  }
 },
 "nbformat": 4,
 "nbformat_minor": 5
}
