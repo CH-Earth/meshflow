{
 "cells": [
  {
   "cell_type": "code",
   "execution_count": 1,
   "id": "a64bc27d-879f-4532-9c7b-e1755e624171",
   "metadata": {},
   "outputs": [],
   "source": [
    "import os\n",
    "import json\n",
    "import pprint\n",
    "import copy\n",
    "import sys\n",
    "\n",
    "from meshflow.utility import (\n",
    "    render_class_template,\n",
    "    render_hydrology_template,\n",
    "    render_run_options_template,\n",
    ")"
   ]
  },
  {
   "cell_type": "markdown",
   "id": "f4da7a5a-17ea-42d5-b833-840f647fe7ea",
   "metadata": {},
   "source": [
    "# CLASS file"
   ]
  },
  {
   "cell_type": "code",
   "execution_count": 2,
   "id": "2cdc3f85-ed44-4d6c-ac15-fc75fe3e8c31",
   "metadata": {
    "scrolled": true
   },
   "outputs": [],
   "source": [
    "case_entry = {\n",
    "    \"centroid_lat\": 45,\n",
    "    \"centroid_lon\": -115,\n",
    "    \"reference_height_wndspd\": 40.0,\n",
    "    \"reference_height_spechum_airtemp\": 40.0,\n",
    "    \"reference_height_surface_roughness\": 50.0,\n",
    "    \"NL\": 12,\n",
    "    \"NM\": 5,\n",
    "}\n",
    "\n",
    "info_entry = {\n",
    "    \"author\": \"Kasra Keshavarz\",\n",
    "    \"location\": \"Calgary, Alberta\"\n",
    "}\n",
    "\n",
    "gru_entry = {\n",
    "    1: {\n",
    "        'class': 'needleleaf',\n",
    "        'fcan': 1.0,\n",
    "        'lamx': 1.27,\n",
    "        'lnz0': 0.166,\n",
    "        'lamn': 0.975,\n",
    "        'alvc': 0.044,\n",
    "        'cmas': 4.718,\n",
    "        'alic': 0.169,\n",
    "        'root': 1.21,\n",
    "        'rsmn': 212.33,\n",
    "        'qa50': 0.0,\n",
    "        'vpda': 0.46,\n",
    "        'vpdb': 0.0,\n",
    "        'psga': 100.0,\n",
    "        'psgb': 0.0,\n",
    "        'drn': 1.0,\n",
    "        'sdep': 2.0,\n",
    "        'fare': 1.0,\n",
    "        'dd': 50.0,\n",
    "        'xslp': 0.03,\n",
    "        'xdrainh': 0.37,\n",
    "        'mann': 0.11,\n",
    "        'ksat': 0.446,\n",
    "        'mid': 'Needleleaf Forest (temperate)',\n",
    "        'sand1': 81.73,\n",
    "        'sand2': 81.73,\n",
    "        'sand3': 81.73,\n",
    "        'clay1': 10.53,\n",
    "        'clay2': 10.53,\n",
    "        'clay3': 10.53,\n",
    "        'orgm1': 0.0,\n",
    "        'orgm2': 0.0,\n",
    "        'orgm3': 0.0,\n",
    "        'tbar1': 4.0,\n",
    "        'tbar2': 2.0,\n",
    "        'tbar3': 1.0,\n",
    "        'tcan': 4.0,\n",
    "        'tsno': 0.0,\n",
    "        'tpnd': 4.0,\n",
    "        'thlq1': 0.25,\n",
    "        'thlq2': 0.15,\n",
    "        'thlq3': 0.04,\n",
    "        'thic1': 0.0,\n",
    "        'thic2': 0.0,\n",
    "        'thic3': 0.0,\n",
    "        'zpnd': 0.0,\n",
    "        'rcan': 0.0,\n",
    "        'scan': 0.0,\n",
    "        'sno': 0.0,\n",
    "        'albs': 0.0,\n",
    "        'rhos': 0.32,\n",
    "        'gro': 1.0\n",
    "    },\n",
    "    2: {\n",
    "        'class': 'broadleaf',\n",
    "        'clay1': 20,\n",
    "        'mid': 'BC Broadleaf'\n",
    "    },\n",
    "    3: {\n",
    "        'class': 'water',\n",
    "        'clay1': 20,\n",
    "        'mid': 'MN Water'\n",
    "    },\n",
    "}"
   ]
  },
  {
   "cell_type": "code",
   "execution_count": 3,
   "id": "d06c6c0f-19e1-4bed-8e3e-7a4e9f4c9a0c",
   "metadata": {},
   "outputs": [],
   "source": [
    "c = render_class_template(info_entry, case_entry, gru_entry)"
   ]
  },
  {
   "cell_type": "code",
   "execution_count": 4,
   "id": "daf1f251-3bb2-4cd6-95e2-83592526445c",
   "metadata": {
    "scrolled": true
   },
   "outputs": [
    {
     "name": "stdout",
     "output_type": "stream",
     "text": [
      "  MESH Model                                                                 01 TITLE\n",
      "  Kasra Keshavarz                                                            02 NAME\n",
      "  Calgary, Alberta                                                           03 PLACE\n",
      "   45.00   -115.00      40.0      40.0      50.0   -1.0    1    12   5       04 DEGLAT/DEGLON/ZRFM/ZRFH/ZBLD/GC/ILW/NL/NM\n",
      " \n",
      "   1.000   0.000   0.000   0.000   0.000   1.270   0.000   0.000   0.000     05 5xFCAN/4xLAMX\n",
      "   0.166   0.000   0.000   0.000   0.000   0.975   0.000   0.000   0.000     06 5xLNZ0/4xLAMN\n",
      "   0.044   0.000   0.000   0.000   0.000   4.718   0.000   0.000   0.000     07 5xALVC/4xCMAS\n",
      "   0.169   0.000   0.000   0.000   0.000   1.210   0.000   0.000   0.000     08 5xALIC/4xROOT\n",
      " 212.330   0.000   0.000   0.000           0.000   0.000   0.000   0.000     09 4xRSMN/4xQA50\n",
      "   0.460   0.000   0.000   0.000           0.000   0.000   0.000   0.000     10 4xVPDA/4xVPDB\n",
      " 100.000   0.000   0.000   0.000           0.000   0.000   0.000   0.000     11 4xPSGA/4xPSGB\n",
      "   1.000   2.000   1.000  50.000                                             12 DRN/SDEP/FARE/DD\n",
      "   0.030   0.370   0.110   0.446   100 Needleleaf Forest (temperate)         13 XSLP/XDRAINH/MANN/KSAT/MID\n",
      "  81.730  81.730  81.730                                                     14 3xSAND (or more)\n",
      "  10.530  10.530  10.530                                                     15 3xCLAY (or more)\n",
      "   0.000   0.000   0.000                                                     16 3xORGM (or more)\n",
      "   4.000   2.000   1.000   4.000   0.000   4.000                             17 3xTBAR (or more)/TCAN/TSNO/TPND\n",
      "   0.250   0.150   0.040   0.000   0.000   0.000   0.000                     18 3xTHLQ (or more)/3xTHIC (or more)/ZPND\n",
      "   0.000   0.000   0.000   0.000   0.320   1.000                             19 RCAN/SCAN/SNO/ALBS/RHOS/GRO\n",
      "\n",
      "   0.000   1.000   0.000   0.000   0.000   0.000   1.450   0.000   0.000     05 5xFCAN/4xLAMX\n",
      "   0.000  -1.300   0.000   0.000   0.000   0.000   1.200   0.000   0.000     06 5xLNZ0/4xLAMN\n",
      "   0.000   0.045   0.000   0.000   0.000   0.000   4.500   0.000   0.000     07 5xALVC/4xCMAS\n",
      "   0.000   0.160   0.000   0.000   0.000   0.000   1.090   0.000   0.000     08 5xALIC/4xROOT\n",
      "   0.000 145.000   0.000   0.000           0.000  36.000   0.000   0.000     09 4xRSMN/4xQA50\n",
      "   0.000   0.800   0.000   0.000           0.000   1.050   0.000   0.000     10 4xVPDA/4xVPDB\n",
      "   0.000 100.000   0.000   0.000           0.000   5.000   0.000   0.000     11 4xPSGA/4xPSGB\n",
      "   1.000   2.500   1.000  50.000                                             12 DRN/SDEP/FARE/DD\n",
      "   0.030   0.350   0.100   0.050   101 BC Broadleaf                          13 XSLP/XDRAINH/MANN/KSAT/MID\n",
      "  50.000  50.000  50.000                                                     14 3xSAND (or more)\n",
      "  20.000  20.000  20.000                                                     15 3xCLAY (or more)\n",
      "   0.000   0.000   0.000                                                     16 3xORGM (or more)\n",
      "   4.000   2.000   1.000   2.000   0.000   4.000                             17 3xTBAR (or more)/TCAN/TSNO/TPND\n",
      "   0.250   0.150   0.040   0.000   0.000   0.000   0.000                     18 3xTHLQ (or more)/3xTHIC (or more)/ZPND\n",
      "   0.000   0.000   0.000   0.000   0.000   1.000                             19 RCAN/SCAN/SNO/ALBS/RHOS/GRO\n",
      "\n",
      "   0.000   0.000   0.000   0.000   1.000   0.000   0.000   0.000   0.000     05 5xFCAN/4xLAMX\n",
      "   0.000   0.000   0.000   0.000  -1.300   0.000   0.000   0.000   0.000     06 5xLNZ0/4xLAMN\n",
      "   0.000   0.000   0.000   0.000   0.045   0.000   0.000   0.000   0.000     07 5xALVC/4xCMAS\n",
      "   0.000   0.000   0.000   0.000   0.160   0.000   0.000   0.000   0.000     08 5xALIC/4xROOT\n",
      "   0.000   0.000   0.000   0.000           0.000   0.000   0.000   0.000     09 4xRSMN/4xQA50\n",
      "   0.000   0.000   0.000   0.000           0.000   0.000   0.000   0.000     10 4xVPDA/4xVPDB\n",
      "   0.000   0.000   0.000   0.000           0.000   0.000   0.000   0.000     11 4xPSGA/4xPSGB\n",
      "   1.000   2.500   1.000  50.000                                             12 DRN/SDEP/FARE/DD\n",
      "   0.030   0.350   0.100   0.050   0   MN Water                              13 XSLP/XDRAINH/MANN/KSAT/MID\n",
      "  50.000  50.000  50.000                                                     14 3xSAND (or more)\n",
      "  20.000  20.000  20.000                                                     15 3xCLAY (or more)\n",
      "   0.000   0.000   0.000                                                     16 3xORGM (or more)\n",
      "   4.000   2.000   1.000   2.000   0.000   4.000                             17 3xTBAR (or more)/TCAN/TSNO/TPND\n",
      "   0.250   0.150   0.040   0.000   0.000   0.000   0.000                     18 3xTHLQ (or more)/3xTHIC (or more)/ZPND\n",
      "   0.000   0.000   0.000   0.000   0.000   1.000                             19 RCAN/SCAN/SNO/ALBS/RHOS/GRO\n",
      "\n",
      "   0       0       0       0                                                 20 (not used, but 4x integer values are required)\n",
      "   0       0       0       0                                                 21 (not used, but 4x integer values are required)\n",
      "   0       0       0       0                                                 22 IHOUR/IMINS/IJDAY/IYEAR\n",
      "\n"
     ]
    }
   ],
   "source": [
    "print(c)"
   ]
  },
  {
   "cell_type": "markdown",
   "id": "5f8b365a-574b-47c9-aeb0-c52d56b9fad8",
   "metadata": {},
   "source": [
    "____"
   ]
  },
  {
   "cell_type": "markdown",
   "id": "e5a63333-6c98-4e87-9fd2-7b2426656e30",
   "metadata": {},
   "source": [
    "# Hydrology file"
   ]
  },
  {
   "cell_type": "code",
   "execution_count": 5,
   "id": "592d80f6-2368-43a7-b668-2a95cd638104",
   "metadata": {},
   "outputs": [],
   "source": [
    "routing_dict = [\n",
    "    {\n",
    "        \"r2n\": 2.87,\n",
    "        \"flz\": 7,\n",
    "    },\n",
    "    {\n",
    "        \"r2n\": 0.2,\n",
    "    },\n",
    "]\n",
    "\n",
    "hydro_dict = {\n",
    "    '1': {\n",
    "        \"zsnl\": 0.3\n",
    "    },\n",
    "    '2': {\n",
    "        \"zplg\": 0.9\n",
    "    },\n",
    "    '3': {\n",
    "        \"zplg\": 0.438\n",
    "    },\n",
    "}"
   ]
  },
  {
   "cell_type": "code",
   "execution_count": 6,
   "id": "54ae6b8e-b299-4e31-aab5-c4605bab3457",
   "metadata": {},
   "outputs": [],
   "source": [
    "h = render_hydrology_template(routing_dict, hydro_dict)"
   ]
  },
  {
   "cell_type": "code",
   "execution_count": 7,
   "id": "8e5fdbd6-8930-4a2d-acc1-9073dbd65f97",
   "metadata": {},
   "outputs": [
    {
     "name": "stdout",
     "output_type": "stream",
     "text": [
      "2.0: MESH Hydrology parameters input file (Version 2.0)\n",
      "##### Option Flags #####\n",
      "----#\n",
      "    0                                                       # Number of option flags\n",
      "##### Channel routing parameters per river class #####\n",
      "-------#\n",
      "4                                                           # Number of channel routing parameters\n",
      "R2N    2.870    0.200                                       # comment for line\n",
      "R1N    0.020    0.020                                       # comment for line\n",
      "PWR    2.370    2.370                                       # comment for line\n",
      "FLZ    7.000    0.001                                       # comment for line\n",
      "##### GRU class independent hydrologic parameters #####     # 10comment line 13                                                           | *\n",
      "-------#                                                    # 11comment line 14                                                           | *\n",
      "       0                                                    # Number of GRU independent hydrologic parameters\n",
      "##### GRU class dependent hydrologic parameters #####       # 18comment line 16                                                           | *\n",
      "-------#                                                    # 19comment line 17                                                           | *\n",
      "       4                                                    # 21Number of GRU dependent hydrologic parameters                             | I8\n",
      "!     1      2      3      \n",
      "ZSNL  0.300  0.050  0.050\n",
      "ZPLS  0.060  0.060  0.060\n",
      "ZPLG  0.200  0.900  0.438\n",
      "IWF   1      1      1\n",
      "\n"
     ]
    }
   ],
   "source": [
    "print(h)"
   ]
  },
  {
   "cell_type": "markdown",
   "id": "0831f791-35d6-4a9e-8bc8-2392706cdfdb",
   "metadata": {},
   "source": [
    "____"
   ]
  },
  {
   "cell_type": "markdown",
   "id": "4ce8d94b-9c76-48c0-8816-092a46555ec5",
   "metadata": {},
   "source": [
    "# Input config file"
   ]
  },
  {
   "cell_type": "code",
   "execution_count": 8,
   "id": "462956ba-d2f0-431d-b80c-919872e38966",
   "metadata": {},
   "outputs": [],
   "source": [
    "options_dict = {\n",
    "    \"flags\": {\n",
    "        \"forcing\": {\n",
    "            \"BASINSHORTWAVEFLAG\": \"RDRS_v2.1_P_FB_SFC\",\n",
    "            \"BASINHUMIDITYFLAG\": \"RDRS_v2.1_P_HU_1.5m\",\n",
    "            \"BASINRAINFLAG\": \"RDRS_v2.1_A_PR0_SFC\",\n",
    "            \"BASINPRESFLAG\": \"RDRS_v2.1_P_P0_SFC\",\n",
    "            \"BASINLONGWAVEFLAG\": \"RDRS_v2.1_P_FI_SFC\",\n",
    "            \"BASINWINDFLAG\": \"RDRS_v2.1_P_UVC_10m\",\n",
    "            \"BASINTEMPERATUREFLAG\": \"RDRS_v2.1_P_TT_1.5m\",\n",
    "            \"BASINFORCINGFLAG\": {\n",
    "                \"start_date\": 19800101,\n",
    "                \"hf\": 15,\n",
    "            },\n",
    "            \"FORCINGLIST\": \"forcing_files_list\",\n",
    "        },\n",
    "        \"etc\": {\n",
    "            \"PBSMFLAG\": \"on\",\n",
    "            \"TIMESTEPFLAG\": 60,\n",
    "        },\n",
    "    },\n",
    "    \"outputs\": {\n",
    "        \"result\": \"results\",\n",
    "    },\n",
    "    \"dates\": {\n",
    "        \"start_year\": 1980,\n",
    "        \"start_day\": 250,\n",
    "        \"start_hour\": 23,\n",
    "        \"end_year\": 2020,\n",
    "        \"end_day\": 352,\n",
    "        \"end_hour\": 3\n",
    "    },\n",
    "}"
   ]
  },
  {
   "cell_type": "code",
   "execution_count": 9,
   "id": "bf5a057c-85ed-4397-a5f1-faa7d451c8e9",
   "metadata": {},
   "outputs": [],
   "source": [
    "i = render_run_options_template(options_dict)"
   ]
  },
  {
   "cell_type": "code",
   "execution_count": 10,
   "id": "0cc249a7-276f-45d8-9e3e-0989f368c284",
   "metadata": {},
   "outputs": [
    {
     "name": "stdout",
     "output_type": "stream",
     "text": [
      "MESH input run options file                             # comment line 1                                | * \n",
      "##### Control Flags #####                               # comment line 2                                | * \n",
      "----#                                                   # comment line 3                                | * \n",
      "   42                                                   # Number of control flags                       | I5\n",
      "BASINFORCINGFLAG      nc_subbasin start_date=19800101 hf=15 \n",
      "BASINSHORTWAVEFLAG    RDRS_v2.1_P_FB_SFC\n",
      "BASINHUMIDITYFLAG     RDRS_v2.1_P_HU_1.5m\n",
      "BASINRAINFLAG         RDRS_v2.1_A_PR0_SFC\n",
      "BASINPRESFLAG         RDRS_v2.1_P_P0_SFC\n",
      "BASINLONGWAVEFLAG     RDRS_v2.1_P_FI_SFC\n",
      "BASINWINDFLAG         RDRS_v2.1_P_UVC_10m\n",
      "BASINTEMPERATUREFLAG  RDRS_v2.1_P_TT_1.5m\n",
      "FORCINGLIST           forcing_files_list\n",
      "IDISP                 0                                 #02 Vegetation Displacement Height Calculation  | A20, I4\n",
      "IZREF                 1                                 #03 Atmospheric Model Reference Height          | A20, I4\n",
      "IPCP                  1                                 #04 Rainfall-Snowfall Partition distribution    | A20, I4\n",
      "ITC                   2                                 #05 Canopy and Ground-Surface Temp Iter Scheme  | A20, I4\n",
      "ITCG                  2                                 #06 Canopy and Ground-Surface Temp Iter Scheme  | A20, I4\n",
      "ITG                   2                                 #07 Canopy and Ground-Surface Temp Iter Scheme  | A20, I4\n",
      "IWF                   1                                 #08 Water Flow control                          | A20, I4\n",
      "IPAI                  0                                 #09 CLASS Input Leaf-Area Index Override        | A20, I4\n",
      "IHGT                  0                                 #10 CLASS Input Vegetation Height Override      | A20, I4\n",
      "IALC                  0                                 #11 CLASS Input Canopy Albedo Override          | A20, I4\n",
      "IALS                  0                                 #12 CLASS Input Snow Albedo Override            | A20, I4\n",
      "IALG                  0                                 #13 CLASS Input Soil Albedo Override            | A20, I4\n",
      "TIMESTEPFLAG          60\n",
      "INPUTPARAMSFORMFLAG   txt\n",
      "SHDFILEFLAG           nc_subbasin\n",
      "FROZENSOILINFILFLAG   0\n",
      "PBSMFLAG              on\n",
      "INTERPOLATIONFLAG     0\n",
      "SAVERESUMEFLAG        0\n",
      "RESUMEFLAG            0\n",
      "OUTFILESFLAG          on\n",
      "AUTOCALIBRATIONFLAG   0\n",
      "METRICSSPINUP         183\n",
      "BASEFLOWFLAG          wf_lzs\n",
      "BASINAVGWBFILEFLAG    none\n",
      "BASINAVGEBFILEFLAG    none\n",
      "STREAMFLOWOUTFLAG     none\n",
      "RUNMODE               runrte\n",
      "DIAGNOSEMODE          off\n",
      "PRINTSIMSTATUS        date_monthly\n",
      "FREZTH                -2.0\n",
      "SWELIM                1500.0\n",
      "SNDENLIM              600.0\n",
      "##### Output Grid selection #####                       #15 comment line 15                             | *\n",
      "----#                                                   #16 comment line 16                             | *\n",
      "    0   #Maximum 5 points                               #17 Number of output grid points                | I5\n",
      "---------#---------#---------#---------#---------#      #18 comment line 18                             | *\n",
      "         1                                              #19 Grid number                                 | 5I10\n",
      "         1                                              #20 Land class                                  | 5I10\n",
      "CLASSOUT                                                #21 Output directory                            | 5A10\n",
      "##### Output Directory #####                            #22 comment line 22                             | *\n",
      "---------#                                              #23 comment line 23                             | *\n",
      "results                                                 #24 Output Directory for total-basin files      | A10\n",
      "##### Simulation Run Times #####                        #25 comment line 25                             | *\n",
      "---#---#---#---#                                        #26 comment line 26                             | *\n",
      "1980 250  23   0\n",
      "2020 352   3   0\n",
      "\n"
     ]
    }
   ],
   "source": [
    "print(i)"
   ]
  }
 ],
 "metadata": {
  "kernelspec": {
   "display_name": "meshflow",
   "language": "python",
   "name": "meshflow"
  },
  "language_info": {
   "codemirror_mode": {
    "name": "ipython",
    "version": 3
   },
   "file_extension": ".py",
   "mimetype": "text/x-python",
   "name": "python",
   "nbconvert_exporter": "python",
   "pygments_lexer": "ipython3",
   "version": "3.10.17"
  }
 },
 "nbformat": 4,
 "nbformat_minor": 5
}
